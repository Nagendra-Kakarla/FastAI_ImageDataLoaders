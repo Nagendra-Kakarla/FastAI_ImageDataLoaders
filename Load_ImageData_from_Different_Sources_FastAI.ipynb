{
 "cells": [
  {
   "cell_type": "code",
   "execution_count": 1,
   "id": "0cd23e96",
   "metadata": {},
   "outputs": [],
   "source": [
    "import fastbook\n",
    "from fastai.vision.all import *\n",
    "from fastbook import *"
   ]
  },
  {
   "cell_type": "markdown",
   "id": "1e5d8678",
   "metadata": {},
   "source": [
    "# Image Data Loader from Name Function"
   ]
  },
  {
   "cell_type": "code",
   "execution_count": 2,
   "id": "52e8cd9d",
   "metadata": {},
   "outputs": [
    {
     "name": "stdout",
     "output_type": "stream",
     "text": [
      "Due to IPython and Windows limitation, python multiprocessing isn't available now.\n",
      "So `number_workers` is changed to 0 to avoid getting stuck\n"
     ]
    }
   ],
   "source": [
    "path = untar_data(URLs.PETS) / 'images'\n",
    "\n",
    "def is_cat(x):\n",
    "    return x[0].isupper()\n",
    "\n",
    "dls = ImageDataLoaders.from_name_func(\n",
    "    path, get_image_files(path), valid_pct = 0.2, seed=42,\n",
    "    label_func = is_cat, item_trms=Resize(224, ResizeMethod.Squish)\n",
    ")"
   ]
  },
  {
   "cell_type": "code",
   "execution_count": 3,
   "id": "44629f5b",
   "metadata": {},
   "outputs": [
    {
     "data": {
      "text/plain": [
       "(PILImage mode=RGB size=500x375, TensorCategory(0))"
      ]
     },
     "execution_count": 3,
     "metadata": {},
     "output_type": "execute_result"
    }
   ],
   "source": [
    "dls.train_ds[0]"
   ]
  },
  {
   "cell_type": "markdown",
   "id": "c9d530be",
   "metadata": {},
   "source": [
    "# Image Data Loader from Folder (with augmentation)"
   ]
  },
  {
   "cell_type": "code",
   "execution_count": 4,
   "id": "1e97e627",
   "metadata": {},
   "outputs": [],
   "source": [
    "path = Path('G:\\\\00_FastAI\\\\Data\\\\cats-v-dogs')"
   ]
  },
  {
   "cell_type": "code",
   "execution_count": 5,
   "id": "580449e5",
   "metadata": {},
   "outputs": [
    {
     "name": "stdout",
     "output_type": "stream",
     "text": [
      "Due to IPython and Windows limitation, python multiprocessing isn't available now.\n",
      "So `number_workers` is changed to 0 to avoid getting stuck\n"
     ]
    }
   ],
   "source": [
    "dls = ImageDataLoaders.from_folder(path, train = 'training', valid = 'validation',\n",
    "                                  item_tfms = Resize(224), batch_tfms=aug_transforms(), shuffle=True)"
   ]
  },
  {
   "cell_type": "code",
   "execution_count": 6,
   "id": "c5cbd7b7",
   "metadata": {},
   "outputs": [],
   "source": [
    "path = Path('G:\\\\00_FastAI\\\\Data\\\\cat-v-dog')"
   ]
  },
  {
   "cell_type": "code",
   "execution_count": 7,
   "id": "c130e439",
   "metadata": {},
   "outputs": [
    {
     "data": {
      "text/plain": [
       "Path('G:/00_FastAI/Data/cat-v-dog')"
      ]
     },
     "execution_count": 7,
     "metadata": {},
     "output_type": "execute_result"
    }
   ],
   "source": [
    "path"
   ]
  },
  {
   "cell_type": "code",
   "execution_count": 8,
   "id": "c6c6ab4f",
   "metadata": {},
   "outputs": [
    {
     "name": "stdout",
     "output_type": "stream",
     "text": [
      "Due to IPython and Windows limitation, python multiprocessing isn't available now.\n",
      "So `number_workers` is changed to 0 to avoid getting stuck\n"
     ]
    }
   ],
   "source": [
    "dls_1 = ImageDataLoaders.from_folder(path, valid_pct=0.2,\n",
    "                                    item_tfms = Resize(224), batch_tfms = aug_transforms(), shuffle=True)"
   ]
  },
  {
   "cell_type": "code",
   "execution_count": 11,
   "id": "8489b99f",
   "metadata": {},
   "outputs": [
    {
     "data": {
      "text/plain": [
       "17997"
      ]
     },
     "execution_count": 11,
     "metadata": {},
     "output_type": "execute_result"
    }
   ],
   "source": [
    "len(dls_1.train_ds.items)"
   ]
  },
  {
   "cell_type": "code",
   "execution_count": 12,
   "id": "aac7eb45",
   "metadata": {},
   "outputs": [
    {
     "data": {
      "text/plain": [
       "4499"
      ]
     },
     "execution_count": 12,
     "metadata": {},
     "output_type": "execute_result"
    }
   ],
   "source": [
    "len(dls_1.valid_ds.items)"
   ]
  },
  {
   "cell_type": "code",
   "execution_count": 13,
   "id": "38470ab7",
   "metadata": {},
   "outputs": [
    {
     "data": {
      "text/plain": [
       "22496"
      ]
     },
     "execution_count": 13,
     "metadata": {},
     "output_type": "execute_result"
    }
   ],
   "source": [
    "len(get_image_files(path))"
   ]
  },
  {
   "cell_type": "markdown",
   "id": "c8891bdb",
   "metadata": {},
   "source": [
    "# Image Data Loader from Path Function"
   ]
  },
  {
   "cell_type": "code",
   "execution_count": 16,
   "id": "15160020",
   "metadata": {},
   "outputs": [],
   "source": [
    "path_1 = Path('G:\\\\00_FastAI\\\\Data\\\\cat-v-dog')"
   ]
  },
  {
   "cell_type": "code",
   "execution_count": 18,
   "id": "9d1e002b",
   "metadata": {},
   "outputs": [
    {
     "name": "stdout",
     "output_type": "stream",
     "text": [
      "Due to IPython and Windows limitation, python multiprocessing isn't available now.\n",
      "So `number_workers` is changed to 0 to avoid getting stuck\n"
     ]
    }
   ],
   "source": [
    "fnames = get_image_files(path_1)\n",
    "\n",
    "def label_func(x):\n",
    "    return x.parent.name\n",
    "\n",
    "dls_2 = ImageDataLoaders.from_path_func(path_1, fnames, label_func, valid_pct=0.2,\n",
    "                                    item_tfms = Resize(224), batch_tfms = aug_transforms(), shuffle=True)"
   ]
  },
  {
   "cell_type": "code",
   "execution_count": 21,
   "id": "884fa0f5",
   "metadata": {},
   "outputs": [
    {
     "data": {
      "text/plain": [
       "17997"
      ]
     },
     "execution_count": 21,
     "metadata": {},
     "output_type": "execute_result"
    }
   ],
   "source": [
    "len(dls_2.train_ds.items)"
   ]
  },
  {
   "cell_type": "code",
   "execution_count": 22,
   "id": "7c4df770",
   "metadata": {},
   "outputs": [
    {
     "data": {
      "text/plain": [
       "4499"
      ]
     },
     "execution_count": 22,
     "metadata": {},
     "output_type": "execute_result"
    }
   ],
   "source": [
    "len(dls_2.valid_ds.items)"
   ]
  }
 ],
 "metadata": {
  "kernelspec": {
   "display_name": "Python 3 (ipykernel)",
   "language": "python",
   "name": "python3"
  },
  "language_info": {
   "codemirror_mode": {
    "name": "ipython",
    "version": 3
   },
   "file_extension": ".py",
   "mimetype": "text/x-python",
   "name": "python",
   "nbconvert_exporter": "python",
   "pygments_lexer": "ipython3",
   "version": "3.9.0"
  }
 },
 "nbformat": 4,
 "nbformat_minor": 5
}
